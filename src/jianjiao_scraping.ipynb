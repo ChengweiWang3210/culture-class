{
 "cells": [
  {
   "cell_type": "markdown",
   "metadata": {},
   "source": [
    "# Scraping Articles in JianJiao"
   ]
  },
  {
   "cell_type": "markdown",
   "metadata": {},
   "source": [
    "Chengwei Wang\n",
    "\n",
    "06/03/2020"
   ]
  },
  {
   "cell_type": "code",
   "execution_count": 42,
   "metadata": {},
   "outputs": [],
   "source": [
    "import pandas as pd\n",
    "import numpy as np\n",
    "import time\n",
    "import re\n",
    "import random\n",
    "import selenium\n",
    "from selenium import webdriver"
   ]
  },
  {
   "cell_type": "code",
   "execution_count": 43,
   "metadata": {},
   "outputs": [],
   "source": [
    "driver = webdriver.Chrome()"
   ]
  },
  {
   "cell_type": "code",
   "execution_count": 3,
   "metadata": {},
   "outputs": [],
   "source": [
    "# we don't need to deal with infinite scrolling problem here\n",
    "# as the newly loaded info from scrolling down is for the next page"
   ]
  },
  {
   "cell_type": "code",
   "execution_count": 4,
   "metadata": {},
   "outputs": [],
   "source": [
    "def get_pages(url, error_page, link, title, tag_group, publish_date):\n",
    "    \n",
    "    try:\n",
    "        driver.get(url)\n",
    "        boxes = driver.find_elements_by_xpath('//*[@class=\"list-title ellipsis block\"]')\n",
    "        for box in boxes:\n",
    "            link.append(box.get_attribute('href'))\n",
    "            title.append(box.get_attribute('text'))\n",
    "            \n",
    "        tags = driver.find_elements_by_xpath('//*[@class=\"box-tag-group\"]')\n",
    "        for tag in tags:\n",
    "            tag_group.append(tag.text)\n",
    "            \n",
    "        timers = driver.find_elements_by_xpath('//*[@class=\"timer\"]')\n",
    "        for timer in timers[0:6]:\n",
    "            publish_date.append(timer.text)\n",
    "\n",
    "    except:\n",
    "        error_page.append(url)"
   ]
  },
  {
   "cell_type": "code",
   "execution_count": 5,
   "metadata": {},
   "outputs": [],
   "source": [
    "url_0 = 'https://www.jianjiaobuluo.com/home/category/review?page='"
   ]
  },
  {
   "cell_type": "code",
   "execution_count": 6,
   "metadata": {},
   "outputs": [],
   "source": [
    "error_page = []\n",
    "link = []\n",
    "title = []\n",
    "tag_group =[]\n",
    "publish_date = []"
   ]
  },
  {
   "cell_type": "code",
   "execution_count": 7,
   "metadata": {
    "scrolled": true
   },
   "outputs": [],
   "source": [
    "for i in range(401):\n",
    "    i += 1\n",
    "    url = url_0 + str(i)\n",
    "    get_pages(url, error_page, link, title, tag_group, publish_date)\n",
    "\n",
    "    time.sleep(random.randint(3,5))\n",
    "    if i % 100 == 0:\n",
    "        time.sleep(12)"
   ]
  },
  {
   "cell_type": "code",
   "execution_count": 12,
   "metadata": {},
   "outputs": [
    {
     "data": {
      "text/plain": [
       "(2403, 2403, 2406, 2403)"
      ]
     },
     "execution_count": 12,
     "metadata": {},
     "output_type": "execute_result"
    }
   ],
   "source": [
    "len(set(link)), len(title), len(publish_date), len(tag_group)"
   ]
  },
  {
   "cell_type": "code",
   "execution_count": 36,
   "metadata": {},
   "outputs": [
    {
     "data": {
      "text/plain": [
       "2403"
      ]
     },
     "execution_count": 36,
     "metadata": {},
     "output_type": "execute_result"
    }
   ],
   "source": [
    "len(publish_date[0:2403])"
   ]
  },
  {
   "cell_type": "code",
   "execution_count": 38,
   "metadata": {},
   "outputs": [],
   "source": [
    "df_link = pd.DataFrame({'title': title, 'dtime': publish_date[0:len(link)], 'tag': tag_group, 'link': link})"
   ]
  },
  {
   "cell_type": "code",
   "execution_count": 39,
   "metadata": {},
   "outputs": [],
   "source": [
    "df_link.to_csv('jianjiao_links.csv', index=False)"
   ]
  },
  {
   "cell_type": "markdown",
   "metadata": {},
   "source": [
    "# Go into each link"
   ]
  },
  {
   "cell_type": "code",
   "execution_count": 44,
   "metadata": {},
   "outputs": [],
   "source": [
    "title2 = []\n",
    "source = []\n",
    "articles = []\n",
    "i = 0"
   ]
  },
  {
   "cell_type": "code",
   "execution_count": 63,
   "metadata": {},
   "outputs": [
    {
     "name": "stdout",
     "output_type": "stream",
     "text": [
      "2405\n",
      "2406\n",
      "2407\n",
      "2408\n",
      "2409\n",
      "2410\n",
      "2411\n",
      "2412\n",
      "2413\n",
      "2414\n",
      "2415\n",
      "2416\n",
      "2417\n",
      "2418\n",
      "2419\n",
      "2420\n",
      "2421\n",
      "2422\n",
      "2423\n",
      "2424\n",
      "2425\n",
      "2426\n",
      "2427\n",
      "2428\n",
      "2429\n",
      "2430\n",
      "2431\n",
      "2432\n",
      "2433\n",
      "2434\n",
      "2435\n",
      "2436\n",
      "2437\n",
      "2438\n",
      "2439\n",
      "2440\n",
      "2441\n",
      "2442\n",
      "2443\n",
      "2444\n",
      "2445\n",
      "2446\n",
      "2447\n",
      "2448\n",
      "2449\n",
      "2450\n",
      "2451\n",
      "2452\n",
      "2453\n",
      "2454\n",
      "2455\n",
      "2456\n",
      "2457\n",
      "2458\n",
      "2459\n",
      "2460\n",
      "2461\n",
      "2462\n",
      "2463\n",
      "2464\n",
      "2465\n",
      "2466\n",
      "2467\n",
      "2468\n",
      "2469\n",
      "2470\n",
      "2471\n",
      "2472\n",
      "2473\n",
      "2474\n",
      "2475\n",
      "2476\n",
      "2477\n",
      "2478\n",
      "2479\n",
      "2480\n",
      "2481\n",
      "2482\n",
      "2483\n",
      "2484\n",
      "2485\n",
      "2486\n",
      "2487\n"
     ]
    }
   ],
   "source": [
    "for l in error_page:\n",
    "    i += 1\n",
    "    print(i)\n",
    "    driver.get(l)\n",
    "    try:\n",
    "        title2.append(driver.find_element_by_xpath('/html/body/div[2]/div/div/div[2]').text)\n",
    "    except:\n",
    "        title2.append(None)\n",
    "\n",
    "    try:\n",
    "        source.append(driver.find_element_by_xpath('/html/body/div[2]/div/div/div[3]').text)\n",
    "    except:\n",
    "        source.append(None)\n",
    "        \n",
    "    try:\n",
    "        articles.append(driver.find_element_by_class_name('info-content').text)\n",
    "    except:\n",
    "        articles.append(None)\n",
    "        \n",
    "    finally:\n",
    "        time.sleep(random.randint(4,6))\n",
    "        if i % 100 == 0:\n",
    "            time.sleep(10)"
   ]
  },
  {
   "cell_type": "code",
   "execution_count": 47,
   "metadata": {},
   "outputs": [
    {
     "data": {
      "text/plain": [
       "84"
      ]
     },
     "execution_count": 47,
     "metadata": {},
     "output_type": "execute_result"
    }
   ],
   "source": [
    "len(title2)"
   ]
  },
  {
   "cell_type": "code",
   "execution_count": 59,
   "metadata": {},
   "outputs": [
    {
     "data": {
      "text/plain": [
       "(2321, 2303, 2404, 2402, 2404, 2398)"
      ]
     },
     "execution_count": 59,
     "metadata": {},
     "output_type": "execute_result"
    }
   ],
   "source": [
    "len(articles),len(set(articles)), len(title2), len(set(title2)), len(source), len(set(source))"
   ]
  },
  {
   "cell_type": "code",
   "execution_count": 54,
   "metadata": {
    "scrolled": true
   },
   "outputs": [
    {
     "data": {
      "text/plain": [
       "['https://www.jianjiaobuluo.com/content/107540',\n",
       " 'https://www.jianjiaobuluo.com/content/11545',\n",
       " 'https://www.jianjiaobuluo.com/content/11544',\n",
       " 'https://www.jianjiaobuluo.com/content/11543',\n",
       " 'https://www.jianjiaobuluo.com/content/11542',\n",
       " 'https://www.jianjiaobuluo.com/content/11541',\n",
       " 'https://www.jianjiaobuluo.com/content/11540',\n",
       " 'https://www.jianjiaobuluo.com/content/11539',\n",
       " 'https://www.jianjiaobuluo.com/content/11538',\n",
       " 'https://www.jianjiaobuluo.com/content/11537',\n",
       " 'https://www.jianjiaobuluo.com/content/11527',\n",
       " 'https://www.jianjiaobuluo.com/content/11528',\n",
       " 'https://www.jianjiaobuluo.com/content/11382',\n",
       " 'https://www.jianjiaobuluo.com/content/10417',\n",
       " 'https://www.jianjiaobuluo.com/content/10334',\n",
       " 'https://www.jianjiaobuluo.com/content/10340',\n",
       " 'https://www.jianjiaobuluo.com/content/10339',\n",
       " 'https://www.jianjiaobuluo.com/content/10338',\n",
       " 'https://www.jianjiaobuluo.com/content/10337',\n",
       " 'https://www.jianjiaobuluo.com/content/10336',\n",
       " 'https://www.jianjiaobuluo.com/content/10549',\n",
       " 'https://www.jianjiaobuluo.com/content/10335',\n",
       " 'https://www.jianjiaobuluo.com/content/10457',\n",
       " 'https://www.jianjiaobuluo.com/content/10333',\n",
       " 'https://www.jianjiaobuluo.com/content/10332',\n",
       " 'https://www.jianjiaobuluo.com/content/10330',\n",
       " 'https://www.jianjiaobuluo.com/content/10329',\n",
       " 'https://www.jianjiaobuluo.com/content/10121',\n",
       " 'https://www.jianjiaobuluo.com/content/9667',\n",
       " 'https://www.jianjiaobuluo.com/content/9431',\n",
       " 'https://www.jianjiaobuluo.com/content/9285',\n",
       " 'https://www.jianjiaobuluo.com/content/9284',\n",
       " 'https://www.jianjiaobuluo.com/content/9193',\n",
       " 'https://www.jianjiaobuluo.com/content/9017',\n",
       " 'https://www.jianjiaobuluo.com/content/9015',\n",
       " 'https://www.jianjiaobuluo.com/content/8920',\n",
       " 'https://www.jianjiaobuluo.com/content/8839',\n",
       " 'https://www.jianjiaobuluo.com/content/8781',\n",
       " 'https://www.jianjiaobuluo.com/content/8723',\n",
       " 'https://www.jianjiaobuluo.com/content/8641',\n",
       " 'https://www.jianjiaobuluo.com/content/8585',\n",
       " 'https://www.jianjiaobuluo.com/content/3616',\n",
       " 'https://www.jianjiaobuluo.com/content/3457',\n",
       " 'https://www.jianjiaobuluo.com/content/3409',\n",
       " 'https://www.jianjiaobuluo.com/content/3383',\n",
       " 'https://www.jianjiaobuluo.com/content/3308',\n",
       " 'https://www.jianjiaobuluo.com/content/3303',\n",
       " 'https://www.jianjiaobuluo.com/content/3222',\n",
       " 'https://www.jianjiaobuluo.com/content/3151',\n",
       " 'https://www.jianjiaobuluo.com/content/3079',\n",
       " 'https://www.jianjiaobuluo.com/content/2986',\n",
       " 'https://www.jianjiaobuluo.com/content/2896',\n",
       " 'https://www.jianjiaobuluo.com/content/2863',\n",
       " 'https://www.jianjiaobuluo.com/content/2815',\n",
       " 'https://www.jianjiaobuluo.com/content/2769',\n",
       " 'https://www.jianjiaobuluo.com/content/2646',\n",
       " 'https://www.jianjiaobuluo.com/content/2596',\n",
       " 'https://www.jianjiaobuluo.com/content/2546',\n",
       " 'https://www.jianjiaobuluo.com/content/2454',\n",
       " 'https://www.jianjiaobuluo.com/content/2363',\n",
       " 'https://www.jianjiaobuluo.com/content/2258',\n",
       " 'https://www.jianjiaobuluo.com/content/2238',\n",
       " 'https://www.jianjiaobuluo.com/content/1998',\n",
       " 'https://www.jianjiaobuluo.com/content/1773',\n",
       " 'https://www.jianjiaobuluo.com/content/1693',\n",
       " 'https://www.jianjiaobuluo.com/content/1564',\n",
       " 'https://www.jianjiaobuluo.com/content/1522',\n",
       " 'https://www.jianjiaobuluo.com/content/1494',\n",
       " 'https://www.jianjiaobuluo.com/content/1475',\n",
       " 'https://www.jianjiaobuluo.com/content/1406',\n",
       " 'https://www.jianjiaobuluo.com/content/1376',\n",
       " 'https://www.jianjiaobuluo.com/content/587',\n",
       " 'https://www.jianjiaobuluo.com/content/586',\n",
       " 'https://www.jianjiaobuluo.com/content/584',\n",
       " 'https://www.jianjiaobuluo.com/content/583',\n",
       " 'https://www.jianjiaobuluo.com/content/582',\n",
       " 'https://www.jianjiaobuluo.com/content/581',\n",
       " 'https://www.jianjiaobuluo.com/content/579',\n",
       " 'https://www.jianjiaobuluo.com/content/20',\n",
       " 'https://www.jianjiaobuluo.com/content/324',\n",
       " 'https://www.jianjiaobuluo.com/content/22',\n",
       " 'https://www.jianjiaobuluo.com/content/21',\n",
       " 'https://www.jianjiaobuluo.com/content/18']"
      ]
     },
     "execution_count": 54,
     "metadata": {},
     "output_type": "execute_result"
    }
   ],
   "source": [
    "error_page"
   ]
  },
  {
   "cell_type": "code",
   "execution_count": 60,
   "metadata": {},
   "outputs": [],
   "source": [
    " = pd.DataFrame({'title':title2, 'source':source, 'article':articles})"
   ]
  },
  {
   "cell_type": "code",
   "execution_count": 62,
   "metadata": {},
   "outputs": [],
   "source": [
    ".to_csv('content_only.csv', header=False)"
   ]
  },
  {
   "cell_type": "code",
   "execution_count": null,
   "metadata": {},
   "outputs": [],
   "source": []
  }
 ],
 "metadata": {
  "kernelspec": {
   "display_name": "Python 3",
   "language": "python",
   "name": "python3"
  },
  "language_info": {
   "codemirror_mode": {
    "name": "ipython",
    "version": 3
   },
   "file_extension": ".py",
   "mimetype": "text/x-python",
   "name": "python",
   "nbconvert_exporter": "python",
   "pygments_lexer": "ipython3",
   "version": "3.7.6"
  }
 },
 "nbformat": 4,
 "nbformat_minor": 4
}
